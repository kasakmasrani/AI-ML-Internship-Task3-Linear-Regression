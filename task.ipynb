{
 "cells": [
  {
   "cell_type": "code",
   "execution_count": 1,
   "id": "2d334423",
   "metadata": {},
   "outputs": [],
   "source": [
    "# Import necessary libraries\n",
    "import pandas as pd\n",
    "import numpy as np\n",
    "import matplotlib.pyplot as plt\n",
    "from sklearn.model_selection import train_test_split\n",
    "from sklearn.linear_model import LinearRegression\n",
    "from sklearn.metrics import mean_absolute_error, mean_squared_error, r2_score"
   ]
  },
  {
   "cell_type": "code",
   "execution_count": 2,
   "id": "68d56ee0",
   "metadata": {},
   "outputs": [],
   "source": [
    "# Load the dataset\n",
    "df = pd.read_csv('Housing.csv')"
   ]
  },
  {
   "cell_type": "code",
   "execution_count": 3,
   "id": "3fe98f1c",
   "metadata": {},
   "outputs": [],
   "source": [
    "# Data preprocessing\n",
    "# Convert yes/no to 1/0\n",
    "binary_cols = ['mainroad', 'guestroom', 'basement', 'hotwaterheating', 'airconditioning', 'prefarea']\n",
    "df[binary_cols] = df[binary_cols].apply(lambda x: x.map({'yes': 1, 'no': 0}))"
   ]
  },
  {
   "cell_type": "code",
   "execution_count": 4,
   "id": "cc3cfe5a",
   "metadata": {},
   "outputs": [],
   "source": [
    "# Convert furnishingstatus to numerical values\n",
    "df['furnishingstatus'] = df['furnishingstatus'].map({'unfurnished': 0, 'semi-furnished': 1, 'furnished': 2})\n",
    "\n",
    "# Simple Linear Regression (Price vs Area)\n",
    "X_simple = df[['area']]\n",
    "y_simple = df['price']"
   ]
  },
  {
   "cell_type": "code",
   "execution_count": 5,
   "id": "a1b9d969",
   "metadata": {},
   "outputs": [],
   "source": [
    "# Split data\n",
    "X_train_s, X_test_s, y_train_s, y_test_s = train_test_split(X_simple, y_simple, test_size=0.2, random_state=42)\n",
    "\n",
    "# Train model\n",
    "model_simple = LinearRegression()\n",
    "model_simple.fit(X_train_s, y_train_s)\n",
    "\n",
    "# Predictions\n",
    "y_pred_s = model_simple.predict(X_test_s)"
   ]
  },
  {
   "cell_type": "code",
   "execution_count": 6,
   "id": "f4d612e7",
   "metadata": {},
   "outputs": [
    {
     "name": "stdout",
     "output_type": "stream",
     "text": [
      "Simple Linear Regression Results:\n",
      "MAE: 1474748.1337969352\n",
      "MSE: 3675286604768.185\n",
      "R²: 0.27287851871974644\n"
     ]
    }
   ],
   "source": [
    "# Evaluation\n",
    "print(\"Simple Linear Regression Results:\")\n",
    "print(f\"MAE: {mean_absolute_error(y_test_s, y_pred_s)}\")\n",
    "print(f\"MSE: {mean_squared_error(y_test_s, y_pred_s)}\")\n",
    "print(f\"R²: {r2_score(y_test_s, y_pred_s)}\")"
   ]
  },
  {
   "cell_type": "code",
   "execution_count": 7,
   "id": "0a6cf727",
   "metadata": {},
   "outputs": [
    {
     "data": {
      "image/png": "[encoded data removed]",
      "text/plain": [
       "<Figure size 640x480 with 1 Axes>"
      ]
     },
     "metadata": {},
     "output_type": "display_data"
    }
   ],
   "source": [
    "# Plot\n",
    "plt.scatter(X_test_s, y_test_s, color='blue')\n",
    "plt.plot(X_test_s, y_pred_s, color='red')\n",
    "plt.title('Price vs Area')\n",
    "plt.xlabel('Area')\n",
    "plt.ylabel('Price')\n",
    "plt.show()"
   ]
  },
  {
   "cell_type": "code",
   "execution_count": 8,
   "id": "a896ef7b",
   "metadata": {},
   "outputs": [],
   "source": [
    "# Multiple Linear Regression\n",
    "X_multi = df.drop('price', axis=1)\n",
    "y_multi = df['price']\n",
    "\n",
    "# Split data\n",
    "X_train_m, X_test_m, y_train_m, y_test_m = train_test_split(X_multi, y_multi, test_size=0.2, random_state=42)\n",
    "\n"
   ]
  },
  {
   "cell_type": "code",
   "execution_count": 9,
   "id": "b984d52b",
   "metadata": {},
   "outputs": [],
   "source": [
    "# Train model\n",
    "model_multi = LinearRegression()\n",
    "model_multi.fit(X_train_m, y_train_m)\n",
    "\n",
    "# Predictions\n",
    "y_pred_m = model_multi.predict(X_test_m)\n",
    "\n"
   ]
  },
  {
   "cell_type": "code",
   "execution_count": 10,
   "id": "4c4e3a9a",
   "metadata": {},
   "outputs": [
    {
     "name": "stdout",
     "output_type": "stream",
     "text": [
      "\n",
      "Multiple Linear Regression Results:\n",
      "MAE: 979679.6912959901\n",
      "MSE: 1771751116594.0344\n",
      "R²: 0.6494754192267804\n",
      "\n",
      "Feature Coefficients:\n",
      "             Feature   Coefficient\n",
      "0               area  2.358488e+02\n",
      "1           bedrooms  7.857449e+04\n",
      "2          bathrooms  1.097117e+06\n",
      "3            stories  4.062232e+05\n",
      "4           mainroad  3.668242e+05\n",
      "5          guestroom  2.331468e+05\n",
      "6           basement  3.931598e+05\n",
      "7    hotwaterheating  6.878813e+05\n",
      "8    airconditioning  7.855506e+05\n",
      "9            parking  2.257565e+05\n",
      "10          prefarea  6.299017e+05\n",
      "11  furnishingstatus  2.103971e+05\n"
     ]
    }
   ],
   "source": [
    "# Evaluation\n",
    "print(\"\\nMultiple Linear Regression Results:\")\n",
    "print(f\"MAE: {mean_absolute_error(y_test_m, y_pred_m)}\")\n",
    "print(f\"MSE: {mean_squared_error(y_test_m, y_pred_m)}\")\n",
    "print(f\"R²: {r2_score(y_test_m, y_pred_m)}\")\n",
    "\n",
    "# Coefficients interpretation\n",
    "coefficients = pd.DataFrame({\n",
    "    'Feature': X_multi.columns,\n",
    "    'Coefficient': model_multi.coef_\n",
    "})\n",
    "print(\"\\nFeature Coefficients:\")\n",
    "print(coefficients)"
   ]
  }
 ],
 "metadata": {
  "kernelspec": {
   "display_name": "base",
   "language": "python",
   "name": "python3"
  },
  "language_info": {
   "codemirror_mode": {
    "name": "ipython",
    "version": 3
   },
   "file_extension": ".py",
   "mimetype": "text/x-python",
   "name": "python",
   "nbconvert_exporter": "python",
   "pygments_lexer": "ipython3",
   "version": "3.12.7"
  }
 },
 "nbformat": 4,
 "nbformat_minor": 5
}
